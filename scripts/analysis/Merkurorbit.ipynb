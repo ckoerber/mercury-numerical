{
 "cells": [
  {
   "cell_type": "markdown",
   "metadata": {},
   "source": [
    "# Darstellung des Merkurorbits mit VPython"
   ]
  },
  {
   "cell_type": "markdown",
   "metadata": {},
   "source": [
    "## Laden der Hilfsmodule"
   ]
  },
  {
   "cell_type": "markdown",
   "metadata": {},
   "source": [
    "Da es unglaublich viel Zeit kostet ein Programm für 3-dimensionale graphische Darstellung selber zu schreiben, lassen wir uns die Arbeit von \"Vpython\" abnehmen. Doch dazu müssen wir zuerst diese Modul bereitstellen. Dies geschieht mit Hilfe des Befehls import.\n",
    "\n",
    "Schreibt man \"from vpython import *\" bedeutet dies: \"Lade alle Funktionen von Vpython so, dass man sie direkt verwenden kann: func = function(..)\". Würde man \"import vpython\" schreiben, so müsste man die Funktion wie folgt aufrufen: \"func = vpython.function(..)\"."
   ]
  },
  {
   "cell_type": "code",
   "execution_count": 3,
   "metadata": {
    "ExecuteTime": {
     "end_time": "2017-09-28T12:19:25.360961Z",
     "start_time": "2017-09-28T12:19:25.065873Z"
    },
    "run_control": {
     "frozen": false,
     "read_only": false
    }
   },
   "outputs": [
    {
     "data": {
      "application/javascript": [
       "require.undef(\"nbextensions/vpython_libraries/glow.min\");"
      ],
      "text/plain": [
       "<IPython.core.display.Javascript object>"
      ]
     },
     "metadata": {},
     "output_type": "display_data"
    },
    {
     "data": {
      "application/javascript": [
       "require.undef(\"nbextensions/vpython_libraries/glowcomm\");"
      ],
      "text/plain": [
       "<IPython.core.display.Javascript object>"
      ]
     },
     "metadata": {},
     "output_type": "display_data"
    },
    {
     "data": {
      "application/javascript": [
       "require.undef(\"nbextensions/vpython_libraries/jquery-ui.custom.min\");"
      ],
      "text/plain": [
       "<IPython.core.display.Javascript object>"
      ]
     },
     "metadata": {},
     "output_type": "display_data"
    },
    {
     "data": {
      "application/javascript": [
       "require([\"nbextensions/vpython_libraries/glow.min\"], function(){console.log(\"GLOW LOADED\");})"
      ],
      "text/plain": [
       "<IPython.core.display.Javascript object>"
      ]
     },
     "metadata": {},
     "output_type": "display_data"
    },
    {
     "data": {
      "application/javascript": [
       "require([\"nbextensions/vpython_libraries/glowcomm\"], function(){console.log(\"GLOWCOMM LOADED\");})"
      ],
      "text/plain": [
       "<IPython.core.display.Javascript object>"
      ]
     },
     "metadata": {},
     "output_type": "display_data"
    },
    {
     "data": {
      "application/javascript": [
       "require([\"nbextensions/vpython_libraries/jquery-ui.custom.min\"], function(){console.log(\"JQUERY LOADED\");})"
      ],
      "text/plain": [
       "<IPython.core.display.Javascript object>"
      ]
     },
     "metadata": {},
     "output_type": "display_data"
    },
    {
     "data": {
      "text/html": [
       "<div id=\"glowscript\" class=\"glowscript\"></div>"
      ],
      "text/plain": [
       "<IPython.core.display.HTML object>"
      ]
     },
     "metadata": {},
     "output_type": "display_data"
    },
    {
     "data": {
      "application/javascript": [
       "window.__context = { glowscript_container: $(\"#glowscript\").removeAttr(\"id\")}"
      ],
      "text/plain": [
       "<IPython.core.display.Javascript object>"
      ]
     },
     "metadata": {},
     "output_type": "display_data"
    }
   ],
   "source": [
    "#import vpnotebook\n",
    "from vpython import vector, sphere, color, curve, rate, canvas\n",
    "import vpython"
   ]
  },
  {
   "cell_type": "markdown",
   "metadata": {},
   "source": [
    "Eine Dokumentation von Modulen lässt sich durch den Befehl \"help( modul_name )\" aufrufen.\n",
    "\n",
    "Tipp: Will man eine Eingabe unterdrücken, so lässt sich dies auch mit \"#\" tun. Der darauf folgende Text wird dabei von Python überlesen."
   ]
  },
  {
   "cell_type": "code",
   "execution_count": 5,
   "metadata": {
    "ExecuteTime": {
     "end_time": "2017-09-28T12:19:43.674210Z",
     "start_time": "2017-09-28T12:19:43.670396Z"
    },
    "run_control": {
     "frozen": false,
     "read_only": false
    },
    "scrolled": true
   },
   "outputs": [],
   "source": [
    "#help(vpython)"
   ]
  },
  {
   "cell_type": "markdown",
   "metadata": {},
   "source": [
    "## Aufgabe 1: Merkurorbit)"
   ]
  },
  {
   "cell_type": "markdown",
   "metadata": {},
   "source": [
    "Funktionen werden in Python wie folgt deklariert:\n",
    "def func(x):\n",
    "    .... Rechnung und Anderes ....\n",
    "\n",
    "Diese wollen wir nun nutzen. Um die Umlaufbahn des Merkurs darzustellen, ist es sinvoll die Aufgabe in zwei Abschnitte zu Teilen.\n",
    "(a) Berchnung des Orbits\n",
    "(b) Zeichnung des Orbits\n",
    "Für beide Abschnitte werden wir Funktionen nutzen."
   ]
  },
  {
   "cell_type": "markdown",
   "metadata": {},
   "source": [
    "## (a) Berechnung des Orbits"
   ]
  },
  {
   "cell_type": "markdown",
   "metadata": {},
   "source": [
    "Die Berechnung des Orbits läuft wie folgt ab. Man übermittelt der Funktion \"merkur_zeit_schritt\" die aktuelle Position und Geschwindigkeit des Merkurs und das Ergebnis der Rechnung ist die neue Position und Geschwindigkeit des Merkurs nach einem Zeitintervall \"dt\""
   ]
  },
  {
   "cell_type": "markdown",
   "metadata": {},
   "source": [
    "### Parameter"
   ]
  },
  {
   "cell_type": "code",
   "execution_count": 6,
   "metadata": {
    "ExecuteTime": {
     "end_time": "2017-09-28T12:19:45.674080Z",
     "start_time": "2017-09-28T12:19:45.661645Z"
    },
    "run_control": {
     "frozen": false,
     "read_only": false
    }
   },
   "outputs": [
    {
     "name": "stdout",
     "output_type": "stream",
     "text": [
      "0.000295965183734\n",
      "<0.027353, 0.000000, 0.000000>\n"
     ]
    }
   ],
   "source": [
    "# Physikalische Größen/Einheiten\n",
    "ms = 1.98892 * 1.e30 # Sonnenmassen\n",
    "AE = 1.49598 * 1.e11 # Astronomische Einheit\n",
    "T  = 60 * 60 * 24    # 1 Tag\n",
    "dt = 1./24*6         # 8 Stunden\n",
    "# Die Gravitationskonstante\n",
    "G  = 6.6738 * 1.e-11 * ms / AE**3 * T**2\n",
    "print G\n",
    "# Die Massen der Planten (in Sonnenmassen)\n",
    "m_sonne  = 1.\n",
    "m_merkur = 0.055\n",
    "# Die Anfangspositionen der Planeten zum Zeitpunkt t = 0\n",
    "r_sonne_0  = vector(0,0,0)\n",
    "r_merkur_0 = vector(0,0.307,0) # Perihel\n",
    "# Die Anfangsgeschwindigkeiten zum Zeitpunkt t = 0\n",
    "v_m = 47.36 * 1.e3 / AE * T\n",
    "v_s = - v_m * m_merkur / m_sonne # Impulserhaltung\n",
    "v_sonne_0  = vector(v_s,0,0)\n",
    "v_merkur_0 = vector(v_m ,0,0)\n",
    "print v_merkur_0"
   ]
  },
  {
   "cell_type": "code",
   "execution_count": 7,
   "metadata": {
    "ExecuteTime": {
     "end_time": "2017-09-28T12:19:46.731267Z",
     "start_time": "2017-09-28T12:19:46.722261Z"
    },
    "collapsed": true,
    "run_control": {
     "frozen": false,
     "read_only": false
    }
   },
   "outputs": [],
   "source": [
    "# Berechnung der neuen Vektoren \n",
    "def merkur_zeit_schritt(r_merkur, v_merkur, r_sonne, v_sonne):\n",
    "\n",
    "    # <----- Ändere dies ------->\n",
    "    # Berechne den Vektor der von Merkur nach Sonne zeigt\n",
    "    r_ms = r_sonne - r_merkur\n",
    "    # Berechne die Kräfte \n",
    "    F_ms = - G * m_sonne * m_merkur / r_ms.mag**2 * r_ms.norm()\n",
    "    F_sm = - F_ms\n",
    "    # Berechne die daraus resultierenden Geschwindigkeiten\n",
    "    v_sonne_neu  = v_sonne  + F_ms / m_sonne  * dt\n",
    "    v_merkur_neu = v_merkur + F_sm / m_merkur * dt\n",
    "    # Und letztendlich die neuen Positionen\n",
    "    r_sonne_neu  = r_sonne  + v_sonne_neu  * dt\n",
    "    r_merkur_neu = r_merkur + v_merkur_neu * dt \n",
    "\n",
    "    # Übergabe der eben ermittelten Vektoren\n",
    "    return r_merkur_neu, v_merkur_neu, r_sonne_neu, v_sonne_neu"
   ]
  },
  {
   "cell_type": "markdown",
   "metadata": {},
   "source": [
    "Teste ob die Funktion funktioniert"
   ]
  },
  {
   "cell_type": "code",
   "execution_count": 8,
   "metadata": {
    "ExecuteTime": {
     "end_time": "2017-09-28T12:19:47.936389Z",
     "start_time": "2017-09-28T12:19:47.931250Z"
    },
    "run_control": {
     "frozen": false,
     "read_only": false
    }
   },
   "outputs": [
    {
     "data": {
      "text/plain": [
       "(<0.006838, 0.306804, 0.000000>,\n",
       " <0.027353, -0.000785, 0.000000>,\n",
       " <-0.000376, 0.000011, 0.000000>,\n",
       " <-0.001504, 0.000043, 0.000000>)"
      ]
     },
     "execution_count": 8,
     "metadata": {},
     "output_type": "execute_result"
    }
   ],
   "source": [
    " merkur_zeit_schritt(r_merkur_0, v_merkur_0, r_sonne_0, v_sonne_0)"
   ]
  },
  {
   "cell_type": "code",
   "execution_count": 9,
   "metadata": {
    "ExecuteTime": {
     "end_time": "2017-09-28T12:19:48.974706Z",
     "start_time": "2017-09-28T12:19:48.962721Z"
    },
    "collapsed": true,
    "run_control": {
     "frozen": false,
     "read_only": false
    }
   },
   "outputs": [],
   "source": [
    "def zeichne_orbit():\n",
    "    # \"Erstelle Merkur und Sonne\"\n",
    "    merkur = sphere( pos=r_merkur_0, radius=0.01, color=color.red   )\n",
    "    sonne   = sphere( pos=r_sonne_0 , radius=0.1, color=color.yellow)\n",
    "    # Erstelle die Bahkurve für Merkur\n",
    "    merkur.bahn = curve(color=color.black)\n",
    "    # Weise den Planeten ihre Anfangsgeschwindigkeiten zu\n",
    "    merkur.velocity = v_merkur_0\n",
    "    sonne.velocity  = v_sonne_0\n",
    "    # Starte die Animation\n",
    "    t = 0\n",
    "    while t < 120*6:\n",
    "        # Bildaktualisierungsrate\n",
    "        rate(18)\n",
    "        # Zeichne die Bahnkurve\n",
    "        merkur.bahn.append( pos=merkur.pos )\n",
    "        # berechne die neuen Positionen\n",
    "        merkur.pos, merkur.velocity, sonne.pos , sonne.velocity = merkur_zeit_schritt( \n",
    "            merkur.pos, merkur.velocity, sonne.pos , sonne.velocity\n",
    "        )\n",
    "        # Nicht vergessen: Ändere die Zeit.\n",
    "        t += dt"
   ]
  },
  {
   "cell_type": "code",
   "execution_count": 10,
   "metadata": {
    "ExecuteTime": {
     "end_time": "2017-09-28T12:20:31.924139Z",
     "start_time": "2017-09-28T12:19:50.062181Z"
    },
    "run_control": {
     "frozen": false,
     "read_only": false
    }
   },
   "outputs": [
    {
     "data": {
      "text/html": [
       "<div id=\"glowscript\" class=\"glowscript\"></div>"
      ],
      "text/plain": [
       "<IPython.core.display.HTML object>"
      ]
     },
     "metadata": {},
     "output_type": "display_data"
    },
    {
     "data": {
      "application/javascript": [
       "window.__context = { glowscript_container: $(\"#glowscript\").removeAttr(\"id\")}"
      ],
      "text/plain": [
       "<IPython.core.display.Javascript object>"
      ]
     },
     "metadata": {},
     "output_type": "display_data"
    },
    {
     "ename": "KeyboardInterrupt",
     "evalue": "",
     "output_type": "error",
     "traceback": [
      "\u001b[0;31m---------------------------------------------------------------------------\u001b[0m",
      "\u001b[0;31mKeyboardInterrupt\u001b[0m                         Traceback (most recent call last)",
      "\u001b[0;32m<ipython-input-10-7ecdbc58b0b1>\u001b[0m in \u001b[0;36m<module>\u001b[0;34m()\u001b[0m\n\u001b[1;32m      1\u001b[0m \u001b[0mscene\u001b[0m \u001b[0;34m=\u001b[0m \u001b[0mcanvas\u001b[0m\u001b[0;34m(\u001b[0m\u001b[0mbackground\u001b[0m\u001b[0;34m=\u001b[0m\u001b[0mcolor\u001b[0m\u001b[0;34m.\u001b[0m\u001b[0mwhite\u001b[0m\u001b[0;34m,\u001b[0m \u001b[0mwidth\u001b[0m\u001b[0;34m=\u001b[0m\u001b[0;36m1024\u001b[0m\u001b[0;34m,\u001b[0m \u001b[0mheight\u001b[0m\u001b[0;34m=\u001b[0m\u001b[0;36m768\u001b[0m\u001b[0;34m)\u001b[0m\u001b[0;34m\u001b[0m\u001b[0m\n\u001b[0;32m----> 2\u001b[0;31m \u001b[0mzeichne_orbit\u001b[0m\u001b[0;34m(\u001b[0m\u001b[0;34m)\u001b[0m\u001b[0;34m\u001b[0m\u001b[0m\n\u001b[0m",
      "\u001b[0;32m<ipython-input-9-9e997e10086f>\u001b[0m in \u001b[0;36mzeichne_orbit\u001b[0;34m()\u001b[0m\n\u001b[1;32m     12\u001b[0m     \u001b[0;32mwhile\u001b[0m \u001b[0mt\u001b[0m \u001b[0;34m<\u001b[0m \u001b[0;36m120\u001b[0m\u001b[0;34m*\u001b[0m\u001b[0;36m6\u001b[0m\u001b[0;34m:\u001b[0m\u001b[0;34m\u001b[0m\u001b[0m\n\u001b[1;32m     13\u001b[0m         \u001b[0;31m# Bildaktualisierungsrate\u001b[0m\u001b[0;34m\u001b[0m\u001b[0;34m\u001b[0m\u001b[0m\n\u001b[0;32m---> 14\u001b[0;31m         \u001b[0mrate\u001b[0m\u001b[0;34m(\u001b[0m\u001b[0;36m18\u001b[0m\u001b[0;34m)\u001b[0m\u001b[0;34m\u001b[0m\u001b[0m\n\u001b[0m\u001b[1;32m     15\u001b[0m         \u001b[0;31m# Zeichne die Bahnkurve\u001b[0m\u001b[0;34m\u001b[0m\u001b[0;34m\u001b[0m\u001b[0m\n\u001b[1;32m     16\u001b[0m         \u001b[0mmerkur\u001b[0m\u001b[0;34m.\u001b[0m\u001b[0mbahn\u001b[0m\u001b[0;34m.\u001b[0m\u001b[0mappend\u001b[0m\u001b[0;34m(\u001b[0m \u001b[0mpos\u001b[0m\u001b[0;34m=\u001b[0m\u001b[0mmerkur\u001b[0m\u001b[0;34m.\u001b[0m\u001b[0mpos\u001b[0m \u001b[0;34m)\u001b[0m\u001b[0;34m\u001b[0m\u001b[0m\n",
      "\u001b[0;32m/Users/christopherkorber/Library/Python/2.7/lib/python/site-packages/vpython/vpython.pyc\u001b[0m in \u001b[0;36m__call__\u001b[0;34m(self, N)\u001b[0m\n\u001b[1;32m    201\u001b[0m         \u001b[0mself\u001b[0m\u001b[0;34m.\u001b[0m\u001b[0mrval\u001b[0m \u001b[0;34m=\u001b[0m \u001b[0mN\u001b[0m\u001b[0;34m\u001b[0m\u001b[0m\n\u001b[1;32m    202\u001b[0m         \u001b[0;32mif\u001b[0m \u001b[0mself\u001b[0m\u001b[0;34m.\u001b[0m\u001b[0mrval\u001b[0m \u001b[0;34m<\u001b[0m \u001b[0;36m1\u001b[0m\u001b[0;34m:\u001b[0m \u001b[0;32mraise\u001b[0m \u001b[0mValueError\u001b[0m\u001b[0;34m(\u001b[0m\u001b[0;34m\"rate value must be greater than or equal to 1\"\u001b[0m\u001b[0;34m)\u001b[0m\u001b[0;34m\u001b[0m\u001b[0m\n\u001b[0;32m--> 203\u001b[0;31m         \u001b[0msuper\u001b[0m\u001b[0;34m(\u001b[0m\u001b[0m_RateKeeper2\u001b[0m\u001b[0;34m,\u001b[0m \u001b[0mself\u001b[0m\u001b[0;34m)\u001b[0m\u001b[0;34m.\u001b[0m\u001b[0m__call__\u001b[0m\u001b[0;34m(\u001b[0m\u001b[0mself\u001b[0m\u001b[0;34m.\u001b[0m\u001b[0mrval\u001b[0m\u001b[0;34m)\u001b[0m \u001b[0;31m## calls __call__ in rate_control.py\u001b[0m\u001b[0;34m\u001b[0m\u001b[0m\n\u001b[0m\u001b[1;32m    204\u001b[0m \u001b[0;34m\u001b[0m\u001b[0m\n\u001b[1;32m    205\u001b[0m \u001b[0;32mif\u001b[0m \u001b[0msys\u001b[0m\u001b[0;34m.\u001b[0m\u001b[0mversion\u001b[0m \u001b[0;34m>\u001b[0m \u001b[0;34m'3'\u001b[0m\u001b[0;34m:\u001b[0m\u001b[0;34m\u001b[0m\u001b[0m\n",
      "\u001b[0;32m/Users/christopherkorber/Library/Python/2.7/lib/python/site-packages/vpython/rate_control.pyc\u001b[0m in \u001b[0;36m__call__\u001b[0;34m(self, maxRate)\u001b[0m\n\u001b[1;32m    199\u001b[0m                 \u001b[0;32mif\u001b[0m \u001b[0mself\u001b[0m\u001b[0;34m.\u001b[0m\u001b[0mwhenToRender\u001b[0m\u001b[0;34m[\u001b[0m\u001b[0mself\u001b[0m\u001b[0;34m.\u001b[0m\u001b[0mrenderIndex\u001b[0m\u001b[0;34m]\u001b[0m \u001b[0;34m==\u001b[0m \u001b[0mself\u001b[0m\u001b[0;34m.\u001b[0m\u001b[0mrateCount\u001b[0m\u001b[0;34m:\u001b[0m\u001b[0;34m\u001b[0m\u001b[0m\n\u001b[1;32m    200\u001b[0m                     \u001b[0msleeps\u001b[0m \u001b[0;34m+=\u001b[0m \u001b[0;36m1\u001b[0m\u001b[0;34m\u001b[0m\u001b[0m\n\u001b[0;32m--> 201\u001b[0;31m                     \u001b[0m_sleep\u001b[0m\u001b[0;34m(\u001b[0m\u001b[0mself\u001b[0m\u001b[0;34m.\u001b[0m\u001b[0minteractionPeriod\u001b[0m\u001b[0;34m)\u001b[0m\u001b[0;34m\u001b[0m\u001b[0m\n\u001b[0m\u001b[1;32m    202\u001b[0m                 \u001b[0;32melse\u001b[0m\u001b[0;34m:\u001b[0m\u001b[0;34m\u001b[0m\u001b[0m\n\u001b[1;32m    203\u001b[0m                     \u001b[0;32mbreak\u001b[0m\u001b[0;34m\u001b[0m\u001b[0m\n",
      "\u001b[0;32m/Users/christopherkorber/Library/Python/2.7/lib/python/site-packages/vpython/rate_control.pyc\u001b[0m in \u001b[0;36m_sleep\u001b[0;34m(dt)\u001b[0m\n\u001b[1;32m     47\u001b[0m         \u001b[0mdtsleep\u001b[0m \u001b[0;34m=\u001b[0m \u001b[0mnticks\u001b[0m\u001b[0;34m*\u001b[0m\u001b[0m_tick\u001b[0m\u001b[0;34m\u001b[0m\u001b[0m\n\u001b[1;32m     48\u001b[0m         \u001b[0mt\u001b[0m \u001b[0;34m=\u001b[0m \u001b[0m_clock\u001b[0m\u001b[0;34m(\u001b[0m\u001b[0;34m)\u001b[0m\u001b[0;34m\u001b[0m\u001b[0m\n\u001b[0;32m---> 49\u001b[0;31m         \u001b[0mtime\u001b[0m\u001b[0;34m.\u001b[0m\u001b[0msleep\u001b[0m\u001b[0;34m(\u001b[0m\u001b[0mdtsleep\u001b[0m\u001b[0;34m)\u001b[0m\u001b[0;34m\u001b[0m\u001b[0m\n\u001b[0m\u001b[1;32m     50\u001b[0m         \u001b[0mt\u001b[0m \u001b[0;34m=\u001b[0m \u001b[0m_clock\u001b[0m\u001b[0;34m(\u001b[0m\u001b[0;34m)\u001b[0m\u001b[0;34m-\u001b[0m\u001b[0mt\u001b[0m\u001b[0;34m\u001b[0m\u001b[0m\n\u001b[1;32m     51\u001b[0m         \u001b[0mdt\u001b[0m \u001b[0;34m-=\u001b[0m \u001b[0mt\u001b[0m\u001b[0;34m\u001b[0m\u001b[0m\n",
      "\u001b[0;31mKeyboardInterrupt\u001b[0m: "
     ]
    }
   ],
   "source": [
    "scene = canvas(background=color.white, width=1024, height=768)\n",
    "zeichne_orbit()"
   ]
  },
  {
   "cell_type": "code",
   "execution_count": 12,
   "metadata": {
    "ExecuteTime": {
     "end_time": "2017-05-22T14:05:40.102981Z",
     "start_time": "2017-05-22T14:05:40.095869Z"
    },
    "run_control": {
     "frozen": false,
     "read_only": false
    }
   },
   "outputs": [
    {
     "data": {
      "text/plain": [
       "65535"
      ]
     },
     "execution_count": 12,
     "metadata": {},
     "output_type": "execute_result"
    }
   ],
   "source": [
    "scene.maxVertices"
   ]
  },
  {
   "cell_type": "code",
   "execution_count": 5,
   "metadata": {
    "ExecuteTime": {
     "end_time": "2017-05-22T14:12:08.943933Z",
     "start_time": "2017-05-22T14:12:08.938826Z"
    },
    "collapsed": true,
    "run_control": {
     "frozen": false,
     "read_only": false
    }
   },
   "outputs": [],
   "source": [
    "vec = np.random.normal(size=96**2)"
   ]
  },
  {
   "cell_type": "code",
   "execution_count": 6,
   "metadata": {
    "ExecuteTime": {
     "end_time": "2017-05-22T14:12:20.106503Z",
     "start_time": "2017-05-22T14:12:20.101893Z"
    },
    "collapsed": true,
    "run_control": {
     "frozen": false,
     "read_only": false
    }
   },
   "outputs": [],
   "source": [
    "mat = np.reshape(vec, (96,96))"
   ]
  },
  {
   "cell_type": "code",
   "execution_count": 10,
   "metadata": {
    "ExecuteTime": {
     "end_time": "2017-05-22T14:13:02.228109Z",
     "start_time": "2017-05-22T14:13:00.770039Z"
    }
   },
   "outputs": [
    {
     "name": "stdout",
     "output_type": "stream",
     "text": [
      "1000 loops, best of 3: 322 µs per loop\n"
     ]
    }
   ],
   "source": [
    "%%timeit\n",
    "inv = np.linalg.inv(mat)"
   ]
  },
  {
   "cell_type": "code",
   "execution_count": 12,
   "metadata": {
    "ExecuteTime": {
     "end_time": "2017-05-22T14:15:16.587795Z",
     "start_time": "2017-05-22T14:15:16.582800Z"
    },
    "collapsed": true
   },
   "outputs": [],
   "source": [
    "f = pd.DataFrame(mat)"
   ]
  },
  {
   "cell_type": "code",
   "execution_count": 13,
   "metadata": {
    "ExecuteTime": {
     "end_time": "2017-05-22T14:15:32.064276Z",
     "start_time": "2017-05-22T14:15:32.036969Z"
    },
    "collapsed": true
   },
   "outputs": [],
   "source": [
    "f.to_csv(\"test.csv\")"
   ]
  },
  {
   "cell_type": "code",
   "execution_count": 15,
   "metadata": {
    "ExecuteTime": {
     "end_time": "2017-05-22T14:16:08.640703Z",
     "start_time": "2017-05-22T14:16:06.125757Z"
    }
   },
   "outputs": [
    {
     "name": "stdout",
     "output_type": "stream",
     "text": [
      "100 loops, best of 3: 5.88 ms per loop\n"
     ]
    }
   ],
   "source": [
    "%%timeit\n",
    "pd.read_csv(\"test.csv\")"
   ]
  },
  {
   "cell_type": "code",
   "execution_count": 18,
   "metadata": {
    "ExecuteTime": {
     "end_time": "2017-05-22T15:43:58.895089Z",
     "start_time": "2017-05-22T15:43:58.886230Z"
    }
   },
   "outputs": [
    {
     "data": {
      "text/plain": [
       "0.98899248409344"
      ]
     },
     "execution_count": 18,
     "metadata": {},
     "output_type": "execute_result"
    }
   ],
   "source": [
    "c  = 2.997e8\n",
    "rS = 2.95e3\n",
    "d  = 24*60**2\n",
    "c**2 /2 *rS * d**2 / 1e10**3"
   ]
  },
  {
   "cell_type": "code",
   "execution_count": null,
   "metadata": {
    "collapsed": true
   },
   "outputs": [],
   "source": []
  }
 ],
 "metadata": {
  "kernelspec": {
   "display_name": "Python 2",
   "language": "python",
   "name": "python2"
  },
  "language_info": {
   "codemirror_mode": {
    "name": "ipython",
    "version": 2
   },
   "file_extension": ".py",
   "mimetype": "text/x-python",
   "name": "python",
   "nbconvert_exporter": "python",
   "pygments_lexer": "ipython2",
   "version": "2.7.13"
  },
  "latex_envs": {
   "bibliofile": "biblio.bib",
   "cite_by": "apalike",
   "current_citInitial": 1,
   "eqLabelWithNumbers": true,
   "eqNumInitial": 0
  }
 },
 "nbformat": 4,
 "nbformat_minor": 1
}
